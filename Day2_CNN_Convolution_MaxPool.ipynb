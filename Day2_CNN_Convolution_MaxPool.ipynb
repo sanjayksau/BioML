{
  "nbformat": 4,
  "nbformat_minor": 0,
  "metadata": {
    "colab": {
      "provenance": []
    },
    "kernelspec": {
      "name": "python3",
      "display_name": "Python 3"
    },
    "language_info": {
      "name": "python"
    }
  },
  "cells": [
    {
      "cell_type": "markdown",
      "source": [
        "#3x3 pre-defined Filter/Kernels (Convolution)\n",
        "\n",
        "- Convolution preserves spatial dimension (with padding)\n",
        "- Extracts features like edges and corners."
      ],
      "metadata": {
        "id": "8WeXaZtmskPX"
      }
    },
    {
      "cell_type": "code",
      "execution_count": null,
      "metadata": {
        "id": "13vi9VG3mUmC"
      },
      "outputs": [],
      "source": [
        "pip install opencv-python"
      ]
    },
    {
      "cell_type": "code",
      "source": [
        "import cv2\n",
        "import numpy as np\n",
        "from matplotlib import pyplot as plt\n",
        "\n",
        "# Load the image\n",
        "image = cv2.imread('taj_source.png')  # Replace with your actual image path\n",
        "image_rgb = cv2.cvtColor(image, cv2.COLOR_BGR2RGB)\n",
        "\n",
        "# custom filter (kernel)\n",
        "custom_kernel = np.array([\n",
        "    [ -1, -1, -1],\n",
        "    [ 0, 0, 0],\n",
        "    [ 1, 1, 1]\n",
        "], dtype=np.float32)\n",
        "\n",
        "\n",
        "\n",
        "# Apply the custom filter\n",
        "filtered_image = cv2.filter2D(src=image, ddepth=-1, kernel=custom_kernel)\n",
        "filtered_rgb = cv2.cvtColor(filtered_image, cv2.COLOR_BGR2RGB)\n",
        "\n",
        "# Display the original and filtered images\n",
        "plt.figure(figsize=(10, 5))\n",
        "plt.subplot(1, 2, 1)\n",
        "plt.imshow(image_rgb)\n",
        "plt.title('Original')\n",
        "plt.axis('off')\n",
        "\n",
        "plt.subplot(1, 2, 2)\n",
        "plt.imshow(filtered_rgb)\n",
        "plt.title('Custom Filter Applied')\n",
        "plt.axis('off')\n",
        "\n",
        "plt.tight_layout()\n",
        "plt.show()\n"
      ],
      "metadata": {
        "id": "tQF68egkelJE"
      },
      "execution_count": null,
      "outputs": []
    },
    {
      "cell_type": "markdown",
      "source": [
        "## Sample filters"
      ],
      "metadata": {
        "id": "caQjbJR_tmbZ"
      }
    },
    {
      "cell_type": "code",
      "source": [
        "#Try these custom kernels/filters\n",
        "# a sharpening filter\n",
        "sharpen_kernel = np.array([\n",
        "    [ 0, -1,  0],\n",
        "    [-1,  6, -1],\n",
        "    [ 0, -1,  0]\n",
        "], dtype=np.float32)\n",
        "\n",
        "\n",
        "#edge detection (Horizontal)\n",
        "sobel_x = np.array([\n",
        "    [-1, 0, 1],\n",
        "    [-2, 0, 2],\n",
        "    [-1, 0, 1]\n",
        "], dtype=np.float32)\n",
        "\n",
        "#edge detection (Vertical)\n",
        "sobel_y = np.array([\n",
        "    [-1, -2, -1],\n",
        "    [ 0,  0,  0],\n",
        "    [ 1,  2,  1]\n",
        "], dtype=np.float32)\n",
        "\n",
        "# prewitt horizontal edge\n",
        "prewitt_x = np.array([\n",
        "    [-1, 0, 1],\n",
        "    [-1, 0, 1],\n",
        "    [-1, 0, 1]\n",
        "], dtype=np.float32)\n",
        "\n",
        "\n",
        "prewitt_y = np.array([\n",
        "    [-1, -1, -1],\n",
        "    [ 0,  0,  0],\n",
        "    [ 1,  1,  1]\n",
        "], dtype=np.float32)\n",
        "\n",
        "box_blur = (1/9) * np.array([\n",
        "    [1, 1, 1],\n",
        "    [1, 1, 1],\n",
        "    [1, 1, 1]\n",
        "], dtype=np.float32)"
      ],
      "metadata": {
        "id": "Vle98z49mjOQ"
      },
      "execution_count": null,
      "outputs": []
    },
    {
      "cell_type": "markdown",
      "source": [
        "#Max Pooling (2x2, stride 2)\n",
        "\n",
        "- Reduces the spatial dimensions.\n",
        "- Keeps strongest/average signals - loses fine detail\n",
        "\n",
        "- Useful for dimensionality reduction in CNNs while retaining strong features (pooling reduces spatial size in CNNs).\n",
        "\n",
        "- Observe the resolution drop\n",
        "\n"
      ],
      "metadata": {
        "id": "cWPDkGdCo5a2"
      }
    },
    {
      "cell_type": "code",
      "source": [
        "import cv2\n",
        "import numpy as np\n",
        "import matplotlib.pyplot as plt\n",
        "\n",
        "# Load and convert image to grayscale\n",
        "#image = cv2.imread('/mnt/data/A_grayscale_magnetic_resonance_imaging_(MRI)_scan_.png')\n",
        "image = cv2.imread('grayscale_mri.png')\n",
        "gray = cv2.cvtColor(image, cv2.COLOR_BGR2GRAY)\n",
        "\n",
        "# Original dimensions\n",
        "original_shape = gray.shape\n",
        "print(f\"Original image size: {original_shape}\")\n",
        "\n",
        "\n",
        "# Define max pooling function\n",
        "def max_pooling(img, size=2, stride=2):\n",
        "    h, w = img.shape\n",
        "    pooled = np.zeros((h // stride, w // stride), dtype=img.dtype)\n",
        "\n",
        "    for i in range(0, h - size + 1, stride):\n",
        "        for j in range(0, w - size + 1, stride):\n",
        "            pooled[i//stride, j//stride] = np.max(img[i:i+size, j:j+size])\n",
        "\n",
        "    return pooled\n",
        "\n",
        "# Define average pooling function\n",
        "def average_pooling(img, size=2, stride=2):\n",
        "    h, w = img.shape\n",
        "    pooled = np.zeros((h // stride, w // stride), dtype=np.uint8)\n",
        "\n",
        "    for i in range(0, h - size + 1, stride):\n",
        "        for j in range(0, w - size + 1, stride):\n",
        "            avg = np.mean(img[i:i+size, j:j+size])\n",
        "            pooled[i//stride, j//stride] = int(avg)\n",
        "\n",
        "    return pooled\n",
        "\n",
        "# Apply max pooling\n",
        "pooled_image = max_pooling(gray, size=2, stride=2)\n",
        "\n",
        "# Apply average pooling\n",
        "#pooled_image = average_pooling(gray, size=2, stride=2)\n",
        "\n",
        "# Pooled dimensions\n",
        "pooled_shape = pooled_image.shape\n",
        "print(f\"Pooled image size: {pooled_shape}\")\n",
        "\n",
        "\n",
        "# Visualize\n",
        "plt.figure(figsize=(10, 5))\n",
        "plt.subplot(1, 2, 1)\n",
        "plt.imshow(gray, cmap='gray')\n",
        "plt.title('Original')\n",
        "plt.axis('off')\n",
        "\n",
        "plt.subplot(1, 2, 2)\n",
        "plt.imshow(pooled_image, cmap='gray')\n",
        "plt.title('After Max/Average Pooling (2x2)')\n",
        "plt.axis('off')\n",
        "\n",
        "plt.tight_layout()\n",
        "plt.show()\n"
      ],
      "metadata": {
        "id": "z3iF2rAuo-LI"
      },
      "execution_count": null,
      "outputs": []
    },
    {
      "cell_type": "code",
      "source": [],
      "metadata": {
        "id": "AF356oJhpEEK"
      },
      "execution_count": null,
      "outputs": []
    }
  ]
}