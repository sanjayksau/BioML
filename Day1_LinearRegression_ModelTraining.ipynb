{
  "nbformat": 4,
  "nbformat_minor": 0,
  "metadata": {
    "colab": {
      "provenance": []
    },
    "kernelspec": {
      "name": "python3",
      "display_name": "Python 3"
    },
    "language_info": {
      "name": "python"
    }
  },
  "cells": [
    {
      "cell_type": "code",
      "execution_count": null,
      "metadata": {
        "id": "B2zjARTO7FFa"
      },
      "outputs": [],
      "source": [
        "import numpy as np\n",
        "import matplotlib.pyplot as plt\n",
        "from matplotlib.animation import FuncAnimation\n",
        "from IPython.display import HTML\n",
        "\n",
        "import warnings\n",
        "warnings.filterwarnings(\"ignore\")\n",
        "\n",
        "\n",
        "# Sample data: objects recalled vs memory test score\n",
        "# Suppose this data is from cognitive tests of 5 patients\n",
        "# or test of the same patient at 5 different times\n",
        "X = np.array([3, 4, 5, 6, 7])  # Objects recalled in 10-object test\n",
        "y = np.array([4, 5, 5.8, 7.5, 9])  # Corresponding memory test scores\n",
        "\n",
        "\n",
        "\n",
        "# Initialize parameters\n",
        "m, b = np.random.randn(), np.random.randn()\n",
        "#m, b = 0.4, 3\n",
        "\n",
        "# Hyperparameters\n",
        "learning_rate = 0.005\n",
        "epochs = 50\n",
        "\n",
        "# For animation\n",
        "history = []\n",
        "losses = []\n",
        "\n",
        "# Training: manual gradient descent\n",
        "for epoch in range(epochs):\n",
        "    y_pred = m * X + b\n",
        "    error = y_pred - y\n",
        "    cost = np.mean(error ** 2)\n",
        "\n",
        "    # Gradients\n",
        "    dm = 2 * np.mean(error * X)\n",
        "    db = 2 * np.mean(error)\n",
        "\n",
        "    # Update\n",
        "    m -= learning_rate * dm\n",
        "    b -= learning_rate * db\n",
        "\n",
        "    # Store for plotting\n",
        "    history.append((m, b))\n",
        "    losses.append(cost)\n",
        "\n",
        "# Plot setup\n",
        "fig, (ax1, ax2) = plt.subplots(1, 2, figsize=(12, 5))\n",
        "\n",
        "# Left: Data and regression line\n",
        "ax1.scatter(X, y, color='black', label='Patients')\n",
        "line, = ax1.plot([], [], 'r-', label='Regression Line')\n",
        "ax1.set_xlim(2, 8)\n",
        "ax1.set_ylim(3, 10)\n",
        "ax1.set_title(\"Predicting Memory Score from Object Recall\")\n",
        "ax1.set_xlabel(\"Objects Recalled (10-object test)\")\n",
        "ax1.set_ylabel(\"Memory Test Score\")\n",
        "ax1.legend()\n",
        "ax1.grid(True)\n",
        "\n",
        "# Right: Loss over epochs\n",
        "loss_line, = ax2.plot([], [], 'b-')\n",
        "ax2.set_xlim(0, epochs)\n",
        "ax2.set_ylim(0, max(losses) * 1.1)\n",
        "ax2.set_title(\"Loss Decrease During Training\")\n",
        "ax2.set_xlabel(\"Epoch\")\n",
        "ax2.set_ylabel(\"Mean Squared Error\")\n",
        "ax2.grid(True)\n",
        "\n",
        "# Animation functions\n",
        "def init():\n",
        "    line.set_data([], [])\n",
        "    loss_line.set_data([], [])\n",
        "    return line, loss_line\n",
        "\n",
        "\n",
        "\n",
        "def update(frame):\n",
        "    m_i, b_i = history[frame]\n",
        "    y_line = m_i * X + b_i\n",
        "    line.set_data(X, y_line)\n",
        "\n",
        "    loss_line.set_data(range(frame + 1), losses[:frame + 1])\n",
        "    ax1.set_title(f\"Epoch {frame+1} – Learning Fit\")\n",
        "    return line, loss_line\n",
        "\n",
        "# Animate!\n",
        "ani = FuncAnimation(fig, update, frames=len(history), init_func=init, blit=True, interval=200)\n",
        "HTML(ani.to_jshtml())\n"
      ]
    },
    {
      "cell_type": "code",
      "source": [
        "print(history)\n"
      ],
      "metadata": {
        "id": "77DRyVB97K7t"
      },
      "execution_count": null,
      "outputs": []
    },
    {
      "cell_type": "code",
      "source": [
        "ani.save(\"linear_regression_training.mp4\", writer='ffmpeg')\n"
      ],
      "metadata": {
        "id": "3vsyhD0N_Jbq"
      },
      "execution_count": null,
      "outputs": []
    }
  ]
}